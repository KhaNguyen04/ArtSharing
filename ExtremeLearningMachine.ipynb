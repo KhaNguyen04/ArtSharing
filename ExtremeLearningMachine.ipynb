{
  "cells": [
    {
      "cell_type": "markdown",
      "metadata": {
        "id": "view-in-github",
        "colab_type": "text"
      },
      "source": [
        "<a href=\"https://colab.research.google.com/github/KhaNguyen04/ArtSharing/blob/main/ExtremeLearningMachine.ipynb\" target=\"_parent\"><img src=\"https://colab.research.google.com/assets/colab-badge.svg\" alt=\"Open In Colab\"/></a>"
      ]
    },
    {
      "cell_type": "code",
      "execution_count": 104,
      "metadata": {
        "id": "9WJiIz9FbYmR"
      },
      "outputs": [],
      "source": [
        "# Import library and dependencies\n",
        "import numpy as np\n",
        "import pandas as pd\n",
        "import math\n",
        "from sklearn.preprocessing import MinMaxScaler\n",
        "import scipy\n"
      ]
    },
    {
      "cell_type": "code",
      "execution_count": 105,
      "metadata": {
        "id": "VsgZz17oobr9",
        "colab": {
          "base_uri": "https://localhost:8080/"
        },
        "outputId": "78ed0bd5-d560-415e-fdd9-21f2bc8c8819"
      },
      "outputs": [
        {
          "output_type": "stream",
          "name": "stdout",
          "text": [
            "Drive already mounted at /content/drive; to attempt to forcibly remount, call drive.mount(\"/content/drive\", force_remount=True).\n"
          ]
        }
      ],
      "source": [
        "# Connecting to Google Colab Drive\n",
        "from google.colab import drive\n",
        "drive.mount('/content/drive')"
      ]
    },
    {
      "cell_type": "code",
      "execution_count": 106,
      "metadata": {
        "id": "UiasJbVxnWhq",
        "colab": {
          "base_uri": "https://localhost:8080/",
          "height": 424
        },
        "outputId": "011418d1-7498-4205-c405-1ca8e2e24c67"
      },
      "outputs": [
        {
          "output_type": "execute_result",
          "data": {
            "text/plain": [
              "         Date      Open      High       Low     Close\n",
              "0    1/2/1996  0.246199  0.246199  0.242382  0.245245\n",
              "1    1/3/1996  0.244291  0.250971  0.243337  0.245245\n",
              "2    1/4/1996  0.247154  0.247154  0.239520  0.240951\n",
              "3    1/5/1996  0.241428  0.261468  0.239520  0.261468\n",
              "4    1/8/1996  0.263377  0.271010  0.259559  0.264331\n",
              "..        ...       ...       ...       ...       ...\n",
              "65   4/3/1996  0.191806  0.191806  0.185722  0.187512\n",
              "66   4/4/1996  0.187990  0.187990  0.183219  0.184173\n",
              "67   4/8/1996  0.182264  0.187035  0.181310  0.186081\n",
              "68   4/9/1996  0.189897  0.202303  0.186081  0.198486\n",
              "69  4/10/1996  0.199440  0.202303  0.197532  0.198486\n",
              "\n",
              "[70 rows x 5 columns]"
            ],
            "text/html": [
              "\n",
              "  <div id=\"df-d231fde5-0425-4551-8c02-e036f8426661\">\n",
              "    <div class=\"colab-df-container\">\n",
              "      <div>\n",
              "<style scoped>\n",
              "    .dataframe tbody tr th:only-of-type {\n",
              "        vertical-align: middle;\n",
              "    }\n",
              "\n",
              "    .dataframe tbody tr th {\n",
              "        vertical-align: top;\n",
              "    }\n",
              "\n",
              "    .dataframe thead th {\n",
              "        text-align: right;\n",
              "    }\n",
              "</style>\n",
              "<table border=\"1\" class=\"dataframe\">\n",
              "  <thead>\n",
              "    <tr style=\"text-align: right;\">\n",
              "      <th></th>\n",
              "      <th>Date</th>\n",
              "      <th>Open</th>\n",
              "      <th>High</th>\n",
              "      <th>Low</th>\n",
              "      <th>Close</th>\n",
              "    </tr>\n",
              "  </thead>\n",
              "  <tbody>\n",
              "    <tr>\n",
              "      <th>0</th>\n",
              "      <td>1/2/1996</td>\n",
              "      <td>0.246199</td>\n",
              "      <td>0.246199</td>\n",
              "      <td>0.242382</td>\n",
              "      <td>0.245245</td>\n",
              "    </tr>\n",
              "    <tr>\n",
              "      <th>1</th>\n",
              "      <td>1/3/1996</td>\n",
              "      <td>0.244291</td>\n",
              "      <td>0.250971</td>\n",
              "      <td>0.243337</td>\n",
              "      <td>0.245245</td>\n",
              "    </tr>\n",
              "    <tr>\n",
              "      <th>2</th>\n",
              "      <td>1/4/1996</td>\n",
              "      <td>0.247154</td>\n",
              "      <td>0.247154</td>\n",
              "      <td>0.239520</td>\n",
              "      <td>0.240951</td>\n",
              "    </tr>\n",
              "    <tr>\n",
              "      <th>3</th>\n",
              "      <td>1/5/1996</td>\n",
              "      <td>0.241428</td>\n",
              "      <td>0.261468</td>\n",
              "      <td>0.239520</td>\n",
              "      <td>0.261468</td>\n",
              "    </tr>\n",
              "    <tr>\n",
              "      <th>4</th>\n",
              "      <td>1/8/1996</td>\n",
              "      <td>0.263377</td>\n",
              "      <td>0.271010</td>\n",
              "      <td>0.259559</td>\n",
              "      <td>0.264331</td>\n",
              "    </tr>\n",
              "    <tr>\n",
              "      <th>...</th>\n",
              "      <td>...</td>\n",
              "      <td>...</td>\n",
              "      <td>...</td>\n",
              "      <td>...</td>\n",
              "      <td>...</td>\n",
              "    </tr>\n",
              "    <tr>\n",
              "      <th>65</th>\n",
              "      <td>4/3/1996</td>\n",
              "      <td>0.191806</td>\n",
              "      <td>0.191806</td>\n",
              "      <td>0.185722</td>\n",
              "      <td>0.187512</td>\n",
              "    </tr>\n",
              "    <tr>\n",
              "      <th>66</th>\n",
              "      <td>4/4/1996</td>\n",
              "      <td>0.187990</td>\n",
              "      <td>0.187990</td>\n",
              "      <td>0.183219</td>\n",
              "      <td>0.184173</td>\n",
              "    </tr>\n",
              "    <tr>\n",
              "      <th>67</th>\n",
              "      <td>4/8/1996</td>\n",
              "      <td>0.182264</td>\n",
              "      <td>0.187035</td>\n",
              "      <td>0.181310</td>\n",
              "      <td>0.186081</td>\n",
              "    </tr>\n",
              "    <tr>\n",
              "      <th>68</th>\n",
              "      <td>4/9/1996</td>\n",
              "      <td>0.189897</td>\n",
              "      <td>0.202303</td>\n",
              "      <td>0.186081</td>\n",
              "      <td>0.198486</td>\n",
              "    </tr>\n",
              "    <tr>\n",
              "      <th>69</th>\n",
              "      <td>4/10/1996</td>\n",
              "      <td>0.199440</td>\n",
              "      <td>0.202303</td>\n",
              "      <td>0.197532</td>\n",
              "      <td>0.198486</td>\n",
              "    </tr>\n",
              "  </tbody>\n",
              "</table>\n",
              "<p>70 rows × 5 columns</p>\n",
              "</div>\n",
              "      <button class=\"colab-df-convert\" onclick=\"convertToInteractive('df-d231fde5-0425-4551-8c02-e036f8426661')\"\n",
              "              title=\"Convert this dataframe to an interactive table.\"\n",
              "              style=\"display:none;\">\n",
              "        \n",
              "  <svg xmlns=\"http://www.w3.org/2000/svg\" height=\"24px\"viewBox=\"0 0 24 24\"\n",
              "       width=\"24px\">\n",
              "    <path d=\"M0 0h24v24H0V0z\" fill=\"none\"/>\n",
              "    <path d=\"M18.56 5.44l.94 2.06.94-2.06 2.06-.94-2.06-.94-.94-2.06-.94 2.06-2.06.94zm-11 1L8.5 8.5l.94-2.06 2.06-.94-2.06-.94L8.5 2.5l-.94 2.06-2.06.94zm10 10l.94 2.06.94-2.06 2.06-.94-2.06-.94-.94-2.06-.94 2.06-2.06.94z\"/><path d=\"M17.41 7.96l-1.37-1.37c-.4-.4-.92-.59-1.43-.59-.52 0-1.04.2-1.43.59L10.3 9.45l-7.72 7.72c-.78.78-.78 2.05 0 2.83L4 21.41c.39.39.9.59 1.41.59.51 0 1.02-.2 1.41-.59l7.78-7.78 2.81-2.81c.8-.78.8-2.07 0-2.86zM5.41 20L4 18.59l7.72-7.72 1.47 1.35L5.41 20z\"/>\n",
              "  </svg>\n",
              "      </button>\n",
              "      \n",
              "  <style>\n",
              "    .colab-df-container {\n",
              "      display:flex;\n",
              "      flex-wrap:wrap;\n",
              "      gap: 12px;\n",
              "    }\n",
              "\n",
              "    .colab-df-convert {\n",
              "      background-color: #E8F0FE;\n",
              "      border: none;\n",
              "      border-radius: 50%;\n",
              "      cursor: pointer;\n",
              "      display: none;\n",
              "      fill: #1967D2;\n",
              "      height: 32px;\n",
              "      padding: 0 0 0 0;\n",
              "      width: 32px;\n",
              "    }\n",
              "\n",
              "    .colab-df-convert:hover {\n",
              "      background-color: #E2EBFA;\n",
              "      box-shadow: 0px 1px 2px rgba(60, 64, 67, 0.3), 0px 1px 3px 1px rgba(60, 64, 67, 0.15);\n",
              "      fill: #174EA6;\n",
              "    }\n",
              "\n",
              "    [theme=dark] .colab-df-convert {\n",
              "      background-color: #3B4455;\n",
              "      fill: #D2E3FC;\n",
              "    }\n",
              "\n",
              "    [theme=dark] .colab-df-convert:hover {\n",
              "      background-color: #434B5C;\n",
              "      box-shadow: 0px 1px 3px 1px rgba(0, 0, 0, 0.15);\n",
              "      filter: drop-shadow(0px 1px 2px rgba(0, 0, 0, 0.3));\n",
              "      fill: #FFFFFF;\n",
              "    }\n",
              "  </style>\n",
              "\n",
              "      <script>\n",
              "        const buttonEl =\n",
              "          document.querySelector('#df-d231fde5-0425-4551-8c02-e036f8426661 button.colab-df-convert');\n",
              "        buttonEl.style.display =\n",
              "          google.colab.kernel.accessAllowed ? 'block' : 'none';\n",
              "\n",
              "        async function convertToInteractive(key) {\n",
              "          const element = document.querySelector('#df-d231fde5-0425-4551-8c02-e036f8426661');\n",
              "          const dataTable =\n",
              "            await google.colab.kernel.invokeFunction('convertToInteractive',\n",
              "                                                     [key], {});\n",
              "          if (!dataTable) return;\n",
              "\n",
              "          const docLinkHtml = 'Like what you see? Visit the ' +\n",
              "            '<a target=\"_blank\" href=https://colab.research.google.com/notebooks/data_table.ipynb>data table notebook</a>'\n",
              "            + ' to learn more about interactive tables.';\n",
              "          element.innerHTML = '';\n",
              "          dataTable['output_type'] = 'display_data';\n",
              "          await google.colab.output.renderOutput(dataTable, element);\n",
              "          const docLink = document.createElement('div');\n",
              "          docLink.innerHTML = docLinkHtml;\n",
              "          element.appendChild(docLink);\n",
              "        }\n",
              "      </script>\n",
              "    </div>\n",
              "  </div>\n",
              "  "
            ]
          },
          "metadata": {},
          "execution_count": 106
        }
      ],
      "source": [
        "# Loading and read file (change the file_path to the right file store)\n",
        "file_path = \"/content/drive/MyDrive/Colab Notebooks/Kwantx/AAPL_Updated.csv\"\n",
        "df = pd.read_csv(file_path) \n",
        "df.head(70)"
      ]
    },
    {
      "cell_type": "code",
      "execution_count": 107,
      "metadata": {
        "id": "nI5yOMEiyZhp",
        "colab": {
          "base_uri": "https://localhost:8080/",
          "height": 424
        },
        "outputId": "6df7f560-adb2-4238-da37-53d81ee24ca2"
      },
      "outputs": [
        {
          "output_type": "execute_result",
          "data": {
            "text/plain": [
              "        Date      Open      High       Low     Close\n",
              "0   1/2/1996  0.246199  0.246199  0.242382  0.245245\n",
              "1   1/3/1996  0.244291  0.250971  0.243337  0.245245\n",
              "2   1/4/1996  0.247154  0.247154  0.239520  0.240951\n",
              "3   1/5/1996  0.241428  0.261468  0.239520  0.261468\n",
              "4   1/8/1996  0.263377  0.271010  0.259559  0.264331\n",
              "..       ...       ...       ...       ...       ...\n",
              "63  4/1/1996  0.191807  0.197533  0.187155  0.194670\n",
              "64  4/2/1996  0.195624  0.195624  0.189898  0.190852\n",
              "65  4/3/1996  0.191806  0.191806  0.185722  0.187512\n",
              "66  4/4/1996  0.187990  0.187990  0.183219  0.184173\n",
              "67  4/8/1996  0.182264  0.187035  0.181310  0.186081\n",
              "\n",
              "[68 rows x 5 columns]"
            ],
            "text/html": [
              "\n",
              "  <div id=\"df-5890f45a-566a-44b8-a7ea-7571df74cefa\">\n",
              "    <div class=\"colab-df-container\">\n",
              "      <div>\n",
              "<style scoped>\n",
              "    .dataframe tbody tr th:only-of-type {\n",
              "        vertical-align: middle;\n",
              "    }\n",
              "\n",
              "    .dataframe tbody tr th {\n",
              "        vertical-align: top;\n",
              "    }\n",
              "\n",
              "    .dataframe thead th {\n",
              "        text-align: right;\n",
              "    }\n",
              "</style>\n",
              "<table border=\"1\" class=\"dataframe\">\n",
              "  <thead>\n",
              "    <tr style=\"text-align: right;\">\n",
              "      <th></th>\n",
              "      <th>Date</th>\n",
              "      <th>Open</th>\n",
              "      <th>High</th>\n",
              "      <th>Low</th>\n",
              "      <th>Close</th>\n",
              "    </tr>\n",
              "  </thead>\n",
              "  <tbody>\n",
              "    <tr>\n",
              "      <th>0</th>\n",
              "      <td>1/2/1996</td>\n",
              "      <td>0.246199</td>\n",
              "      <td>0.246199</td>\n",
              "      <td>0.242382</td>\n",
              "      <td>0.245245</td>\n",
              "    </tr>\n",
              "    <tr>\n",
              "      <th>1</th>\n",
              "      <td>1/3/1996</td>\n",
              "      <td>0.244291</td>\n",
              "      <td>0.250971</td>\n",
              "      <td>0.243337</td>\n",
              "      <td>0.245245</td>\n",
              "    </tr>\n",
              "    <tr>\n",
              "      <th>2</th>\n",
              "      <td>1/4/1996</td>\n",
              "      <td>0.247154</td>\n",
              "      <td>0.247154</td>\n",
              "      <td>0.239520</td>\n",
              "      <td>0.240951</td>\n",
              "    </tr>\n",
              "    <tr>\n",
              "      <th>3</th>\n",
              "      <td>1/5/1996</td>\n",
              "      <td>0.241428</td>\n",
              "      <td>0.261468</td>\n",
              "      <td>0.239520</td>\n",
              "      <td>0.261468</td>\n",
              "    </tr>\n",
              "    <tr>\n",
              "      <th>4</th>\n",
              "      <td>1/8/1996</td>\n",
              "      <td>0.263377</td>\n",
              "      <td>0.271010</td>\n",
              "      <td>0.259559</td>\n",
              "      <td>0.264331</td>\n",
              "    </tr>\n",
              "    <tr>\n",
              "      <th>...</th>\n",
              "      <td>...</td>\n",
              "      <td>...</td>\n",
              "      <td>...</td>\n",
              "      <td>...</td>\n",
              "      <td>...</td>\n",
              "    </tr>\n",
              "    <tr>\n",
              "      <th>63</th>\n",
              "      <td>4/1/1996</td>\n",
              "      <td>0.191807</td>\n",
              "      <td>0.197533</td>\n",
              "      <td>0.187155</td>\n",
              "      <td>0.194670</td>\n",
              "    </tr>\n",
              "    <tr>\n",
              "      <th>64</th>\n",
              "      <td>4/2/1996</td>\n",
              "      <td>0.195624</td>\n",
              "      <td>0.195624</td>\n",
              "      <td>0.189898</td>\n",
              "      <td>0.190852</td>\n",
              "    </tr>\n",
              "    <tr>\n",
              "      <th>65</th>\n",
              "      <td>4/3/1996</td>\n",
              "      <td>0.191806</td>\n",
              "      <td>0.191806</td>\n",
              "      <td>0.185722</td>\n",
              "      <td>0.187512</td>\n",
              "    </tr>\n",
              "    <tr>\n",
              "      <th>66</th>\n",
              "      <td>4/4/1996</td>\n",
              "      <td>0.187990</td>\n",
              "      <td>0.187990</td>\n",
              "      <td>0.183219</td>\n",
              "      <td>0.184173</td>\n",
              "    </tr>\n",
              "    <tr>\n",
              "      <th>67</th>\n",
              "      <td>4/8/1996</td>\n",
              "      <td>0.182264</td>\n",
              "      <td>0.187035</td>\n",
              "      <td>0.181310</td>\n",
              "      <td>0.186081</td>\n",
              "    </tr>\n",
              "  </tbody>\n",
              "</table>\n",
              "<p>68 rows × 5 columns</p>\n",
              "</div>\n",
              "      <button class=\"colab-df-convert\" onclick=\"convertToInteractive('df-5890f45a-566a-44b8-a7ea-7571df74cefa')\"\n",
              "              title=\"Convert this dataframe to an interactive table.\"\n",
              "              style=\"display:none;\">\n",
              "        \n",
              "  <svg xmlns=\"http://www.w3.org/2000/svg\" height=\"24px\"viewBox=\"0 0 24 24\"\n",
              "       width=\"24px\">\n",
              "    <path d=\"M0 0h24v24H0V0z\" fill=\"none\"/>\n",
              "    <path d=\"M18.56 5.44l.94 2.06.94-2.06 2.06-.94-2.06-.94-.94-2.06-.94 2.06-2.06.94zm-11 1L8.5 8.5l.94-2.06 2.06-.94-2.06-.94L8.5 2.5l-.94 2.06-2.06.94zm10 10l.94 2.06.94-2.06 2.06-.94-2.06-.94-.94-2.06-.94 2.06-2.06.94z\"/><path d=\"M17.41 7.96l-1.37-1.37c-.4-.4-.92-.59-1.43-.59-.52 0-1.04.2-1.43.59L10.3 9.45l-7.72 7.72c-.78.78-.78 2.05 0 2.83L4 21.41c.39.39.9.59 1.41.59.51 0 1.02-.2 1.41-.59l7.78-7.78 2.81-2.81c.8-.78.8-2.07 0-2.86zM5.41 20L4 18.59l7.72-7.72 1.47 1.35L5.41 20z\"/>\n",
              "  </svg>\n",
              "      </button>\n",
              "      \n",
              "  <style>\n",
              "    .colab-df-container {\n",
              "      display:flex;\n",
              "      flex-wrap:wrap;\n",
              "      gap: 12px;\n",
              "    }\n",
              "\n",
              "    .colab-df-convert {\n",
              "      background-color: #E8F0FE;\n",
              "      border: none;\n",
              "      border-radius: 50%;\n",
              "      cursor: pointer;\n",
              "      display: none;\n",
              "      fill: #1967D2;\n",
              "      height: 32px;\n",
              "      padding: 0 0 0 0;\n",
              "      width: 32px;\n",
              "    }\n",
              "\n",
              "    .colab-df-convert:hover {\n",
              "      background-color: #E2EBFA;\n",
              "      box-shadow: 0px 1px 2px rgba(60, 64, 67, 0.3), 0px 1px 3px 1px rgba(60, 64, 67, 0.15);\n",
              "      fill: #174EA6;\n",
              "    }\n",
              "\n",
              "    [theme=dark] .colab-df-convert {\n",
              "      background-color: #3B4455;\n",
              "      fill: #D2E3FC;\n",
              "    }\n",
              "\n",
              "    [theme=dark] .colab-df-convert:hover {\n",
              "      background-color: #434B5C;\n",
              "      box-shadow: 0px 1px 3px 1px rgba(0, 0, 0, 0.15);\n",
              "      filter: drop-shadow(0px 1px 2px rgba(0, 0, 0, 0.3));\n",
              "      fill: #FFFFFF;\n",
              "    }\n",
              "  </style>\n",
              "\n",
              "      <script>\n",
              "        const buttonEl =\n",
              "          document.querySelector('#df-5890f45a-566a-44b8-a7ea-7571df74cefa button.colab-df-convert');\n",
              "        buttonEl.style.display =\n",
              "          google.colab.kernel.accessAllowed ? 'block' : 'none';\n",
              "\n",
              "        async function convertToInteractive(key) {\n",
              "          const element = document.querySelector('#df-5890f45a-566a-44b8-a7ea-7571df74cefa');\n",
              "          const dataTable =\n",
              "            await google.colab.kernel.invokeFunction('convertToInteractive',\n",
              "                                                     [key], {});\n",
              "          if (!dataTable) return;\n",
              "\n",
              "          const docLinkHtml = 'Like what you see? Visit the ' +\n",
              "            '<a target=\"_blank\" href=https://colab.research.google.com/notebooks/data_table.ipynb>data table notebook</a>'\n",
              "            + ' to learn more about interactive tables.';\n",
              "          element.innerHTML = '';\n",
              "          dataTable['output_type'] = 'display_data';\n",
              "          await google.colab.output.renderOutput(dataTable, element);\n",
              "          const docLink = document.createElement('div');\n",
              "          docLink.innerHTML = docLinkHtml;\n",
              "          element.appendChild(docLink);\n",
              "        }\n",
              "      </script>\n",
              "    </div>\n",
              "  </div>\n",
              "  "
            ]
          },
          "metadata": {},
          "execution_count": 107
        }
      ],
      "source": [
        "# Function that select data accoring to data range\n",
        "def data_date(date,days=\"start\"):\n",
        "  if date in df['Date'].values:\n",
        "    index_end=df.loc[df['Date'] == date].index[0]\n",
        "    if days==\"start\":\n",
        "      index_start=0\n",
        "    elif index_end-days<0:\n",
        "        index_start=0\n",
        "    else:\n",
        "        index_start=index_end-days\n",
        "    return df.loc[index_start:index_end]\n",
        "  else:\n",
        "    return None\n",
        "input_date='4/8/1996'\n",
        "df_select=data_date(input_date)\n",
        "df_select"
      ]
    },
    {
      "cell_type": "code",
      "source": [
        "# Change index to Date column\n",
        "df_graph = df_select.copy()\n",
        "df_graph.set_index('Date',inplace=True)\n",
        "df_graph.plot(figsize=(12,6))\n"
      ],
      "metadata": {
        "id": "QTNVWavr0vu7",
        "colab": {
          "base_uri": "https://localhost:8080/",
          "height": 405
        },
        "outputId": "a95b24fc-2541-4ef1-ad6f-9e48feb34f38"
      },
      "execution_count": 108,
      "outputs": [
        {
          "output_type": "execute_result",
          "data": {
            "text/plain": [
              "<matplotlib.axes._subplots.AxesSubplot at 0x7f8e35e633d0>"
            ]
          },
          "metadata": {},
          "execution_count": 108
        },
        {
          "output_type": "display_data",
          "data": {
            "text/plain": [
              "<Figure size 864x432 with 1 Axes>"
            ],
            "image/png": "[encoded data removed]"
          },
          "metadata": {
            "needs_background": "light"
          }
        }
      ]
    },
    {
      "cell_type": "code",
      "source": [
        "# Normalize data\n",
        "df_normalize=df_select.loc[:, df.columns!='Date']\n",
        "for column in df_normalize.columns:\n",
        "  df_normalize[column]=-1+2*(df_normalize[column]-df_normalize[column].min())/(df_normalize[column].max()-df_normalize[column].min())\n",
        "df_normalize.insert(loc=0, column='Date', value=df['Date'])\n",
        "min_target=min(df_normalize[\"Close\"])\n",
        "max_target=max(df_normalize[\"Close\"])\n",
        "df_normalize.head(10)"
      ],
      "metadata": {
        "id": "GH0s_ihh7jnZ",
        "colab": {
          "base_uri": "https://localhost:8080/",
          "height": 467
        },
        "outputId": "04660971-39ca-47e2-d072-bf62e15895b8"
      },
      "execution_count": 139,
      "outputs": [
        {
          "output_type": "stream",
          "name": "stderr",
          "text": [
            "/usr/local/lib/python3.7/dist-packages/ipykernel_launcher.py:4: SettingWithCopyWarning: \n",
            "A value is trying to be set on a copy of a slice from a DataFrame.\n",
            "Try using .loc[row_indexer,col_indexer] = value instead\n",
            "\n",
            "See the caveats in the documentation: https://pandas.pydata.org/pandas-docs/stable/user_guide/indexing.html#returning-a-view-versus-a-copy\n",
            "  after removing the cwd from sys.path.\n"
          ]
        },
        {
          "output_type": "execute_result",
          "data": {
            "text/plain": [
              "        Date      Open      High       Low     Close\n",
              "0   1/2/1996  0.565223  0.409084  0.590911  0.483145\n",
              "1   1/3/1996  0.521747  0.522733  0.613637  0.483145\n",
              "2   1/4/1996  0.586978  0.431828  0.522732  0.382025\n",
              "3   1/5/1996  0.456532  0.772733  0.522731  0.865182\n",
              "4   1/8/1996  0.956546  1.000000  1.000000  0.932603\n",
              "5   1/9/1996  0.978281  0.840917  0.772740  0.595521\n",
              "6  1/10/1996  0.608715  0.863636  0.681811  0.865182\n",
              "7  1/11/1996  0.630448  0.909083  0.704553  1.000000\n",
              "8  1/12/1996  1.000000  0.863623  0.863624  0.797737\n",
              "9  1/15/1996  0.826096  0.818189  0.886367  0.842716"
            ],
            "text/html": [
              "\n",
              "  <div id=\"df-d6124e34-4640-40f1-85a1-94ff50e94de7\">\n",
              "    <div class=\"colab-df-container\">\n",
              "      <div>\n",
              "<style scoped>\n",
              "    .dataframe tbody tr th:only-of-type {\n",
              "        vertical-align: middle;\n",
              "    }\n",
              "\n",
              "    .dataframe tbody tr th {\n",
              "        vertical-align: top;\n",
              "    }\n",
              "\n",
              "    .dataframe thead th {\n",
              "        text-align: right;\n",
              "    }\n",
              "</style>\n",
              "<table border=\"1\" class=\"dataframe\">\n",
              "  <thead>\n",
              "    <tr style=\"text-align: right;\">\n",
              "      <th></th>\n",
              "      <th>Date</th>\n",
              "      <th>Open</th>\n",
              "      <th>High</th>\n",
              "      <th>Low</th>\n",
              "      <th>Close</th>\n",
              "    </tr>\n",
              "  </thead>\n",
              "  <tbody>\n",
              "    <tr>\n",
              "      <th>0</th>\n",
              "      <td>1/2/1996</td>\n",
              "      <td>0.565223</td>\n",
              "      <td>0.409084</td>\n",
              "      <td>0.590911</td>\n",
              "      <td>0.483145</td>\n",
              "    </tr>\n",
              "    <tr>\n",
              "      <th>1</th>\n",
              "      <td>1/3/1996</td>\n",
              "      <td>0.521747</td>\n",
              "      <td>0.522733</td>\n",
              "      <td>0.613637</td>\n",
              "      <td>0.483145</td>\n",
              "    </tr>\n",
              "    <tr>\n",
              "      <th>2</th>\n",
              "      <td>1/4/1996</td>\n",
              "      <td>0.586978</td>\n",
              "      <td>0.431828</td>\n",
              "      <td>0.522732</td>\n",
              "      <td>0.382025</td>\n",
              "    </tr>\n",
              "    <tr>\n",
              "      <th>3</th>\n",
              "      <td>1/5/1996</td>\n",
              "      <td>0.456532</td>\n",
              "      <td>0.772733</td>\n",
              "      <td>0.522731</td>\n",
              "      <td>0.865182</td>\n",
              "    </tr>\n",
              "    <tr>\n",
              "      <th>4</th>\n",
              "      <td>1/8/1996</td>\n",
              "      <td>0.956546</td>\n",
              "      <td>1.000000</td>\n",
              "      <td>1.000000</td>\n",
              "      <td>0.932603</td>\n",
              "    </tr>\n",
              "    <tr>\n",
              "      <th>5</th>\n",
              "      <td>1/9/1996</td>\n",
              "      <td>0.978281</td>\n",
              "      <td>0.840917</td>\n",
              "      <td>0.772740</td>\n",
              "      <td>0.595521</td>\n",
              "    </tr>\n",
              "    <tr>\n",
              "      <th>6</th>\n",
              "      <td>1/10/1996</td>\n",
              "      <td>0.608715</td>\n",
              "      <td>0.863636</td>\n",
              "      <td>0.681811</td>\n",
              "      <td>0.865182</td>\n",
              "    </tr>\n",
              "    <tr>\n",
              "      <th>7</th>\n",
              "      <td>1/11/1996</td>\n",
              "      <td>0.630448</td>\n",
              "      <td>0.909083</td>\n",
              "      <td>0.704553</td>\n",
              "      <td>1.000000</td>\n",
              "    </tr>\n",
              "    <tr>\n",
              "      <th>8</th>\n",
              "      <td>1/12/1996</td>\n",
              "      <td>1.000000</td>\n",
              "      <td>0.863623</td>\n",
              "      <td>0.863624</td>\n",
              "      <td>0.797737</td>\n",
              "    </tr>\n",
              "    <tr>\n",
              "      <th>9</th>\n",
              "      <td>1/15/1996</td>\n",
              "      <td>0.826096</td>\n",
              "      <td>0.818189</td>\n",
              "      <td>0.886367</td>\n",
              "      <td>0.842716</td>\n",
              "    </tr>\n",
              "  </tbody>\n",
              "</table>\n",
              "</div>\n",
              "      <button class=\"colab-df-convert\" onclick=\"convertToInteractive('df-d6124e34-4640-40f1-85a1-94ff50e94de7')\"\n",
              "              title=\"Convert this dataframe to an interactive table.\"\n",
              "              style=\"display:none;\">\n",
              "        \n",
              "  <svg xmlns=\"http://www.w3.org/2000/svg\" height=\"24px\"viewBox=\"0 0 24 24\"\n",
              "       width=\"24px\">\n",
              "    <path d=\"M0 0h24v24H0V0z\" fill=\"none\"/>\n",
              "    <path d=\"M18.56 5.44l.94 2.06.94-2.06 2.06-.94-2.06-.94-.94-2.06-.94 2.06-2.06.94zm-11 1L8.5 8.5l.94-2.06 2.06-.94-2.06-.94L8.5 2.5l-.94 2.06-2.06.94zm10 10l.94 2.06.94-2.06 2.06-.94-2.06-.94-.94-2.06-.94 2.06-2.06.94z\"/><path d=\"M17.41 7.96l-1.37-1.37c-.4-.4-.92-.59-1.43-.59-.52 0-1.04.2-1.43.59L10.3 9.45l-7.72 7.72c-.78.78-.78 2.05 0 2.83L4 21.41c.39.39.9.59 1.41.59.51 0 1.02-.2 1.41-.59l7.78-7.78 2.81-2.81c.8-.78.8-2.07 0-2.86zM5.41 20L4 18.59l7.72-7.72 1.47 1.35L5.41 20z\"/>\n",
              "  </svg>\n",
              "      </button>\n",
              "      \n",
              "  <style>\n",
              "    .colab-df-container {\n",
              "      display:flex;\n",
              "      flex-wrap:wrap;\n",
              "      gap: 12px;\n",
              "    }\n",
              "\n",
              "    .colab-df-convert {\n",
              "      background-color: #E8F0FE;\n",
              "      border: none;\n",
              "      border-radius: 50%;\n",
              "      cursor: pointer;\n",
              "      display: none;\n",
              "      fill: #1967D2;\n",
              "      height: 32px;\n",
              "      padding: 0 0 0 0;\n",
              "      width: 32px;\n",
              "    }\n",
              "\n",
              "    .colab-df-convert:hover {\n",
              "      background-color: #E2EBFA;\n",
              "      box-shadow: 0px 1px 2px rgba(60, 64, 67, 0.3), 0px 1px 3px 1px rgba(60, 64, 67, 0.15);\n",
              "      fill: #174EA6;\n",
              "    }\n",
              "\n",
              "    [theme=dark] .colab-df-convert {\n",
              "      background-color: #3B4455;\n",
              "      fill: #D2E3FC;\n",
              "    }\n",
              "\n",
              "    [theme=dark] .colab-df-convert:hover {\n",
              "      background-color: #434B5C;\n",
              "      box-shadow: 0px 1px 3px 1px rgba(0, 0, 0, 0.15);\n",
              "      filter: drop-shadow(0px 1px 2px rgba(0, 0, 0, 0.3));\n",
              "      fill: #FFFFFF;\n",
              "    }\n",
              "  </style>\n",
              "\n",
              "      <script>\n",
              "        const buttonEl =\n",
              "          document.querySelector('#df-d6124e34-4640-40f1-85a1-94ff50e94de7 button.colab-df-convert');\n",
              "        buttonEl.style.display =\n",
              "          google.colab.kernel.accessAllowed ? 'block' : 'none';\n",
              "\n",
              "        async function convertToInteractive(key) {\n",
              "          const element = document.querySelector('#df-d6124e34-4640-40f1-85a1-94ff50e94de7');\n",
              "          const dataTable =\n",
              "            await google.colab.kernel.invokeFunction('convertToInteractive',\n",
              "                                                     [key], {});\n",
              "          if (!dataTable) return;\n",
              "\n",
              "          const docLinkHtml = 'Like what you see? Visit the ' +\n",
              "            '<a target=\"_blank\" href=https://colab.research.google.com/notebooks/data_table.ipynb>data table notebook</a>'\n",
              "            + ' to learn more about interactive tables.';\n",
              "          element.innerHTML = '';\n",
              "          dataTable['output_type'] = 'display_data';\n",
              "          await google.colab.output.renderOutput(dataTable, element);\n",
              "          const docLink = document.createElement('div');\n",
              "          docLink.innerHTML = docLinkHtml;\n",
              "          element.appendChild(docLink);\n",
              "        }\n",
              "      </script>\n",
              "    </div>\n",
              "  </div>\n",
              "  "
            ]
          },
          "metadata": {},
          "execution_count": 139
        }
      ]
    },
    {
      "cell_type": "code",
      "source": [
        "T= df_normalize[\"Close\"]\n",
        "T=T.to_numpy()\n",
        "data_columns=df_normalize.loc[:, ~df.columns.isin([\"Close\",\"Date\"])]\n",
        "data_columns=data_columns.to_numpy()\n",
        "\n",
        "trainX = []\n",
        "trainY = []\n",
        "n_future = 2 # time window we want to predict the future\n",
        "n_past = 2 #time window of past date \n",
        "for i in range(n_past, len(data_columns) - n_future +1):\n",
        "    trainX.append(data_columns[i - n_past:i, 0:data_columns.shape[1]])\n",
        "    trainY.append(T[i :i + n_future])\n",
        "trainX, trainY = np.array(trainX), np.array(trainY)\n",
        "print\n",
        "print(trainX[:5])  #first five value of  Open\tHigh\tLow\t\n",
        "print(\"Target array: \")\n",
        "trainY[:5] #first five value Close price inpu"
      ],
      "metadata": {
        "id": "FvFNeHRx8cvQ",
        "colab": {
          "base_uri": "https://localhost:8080/"
        },
        "outputId": "5ac010ec-ec5a-491e-cc38-8eb911b65e2c"
      },
      "execution_count": 137,
      "outputs": [
        {
          "output_type": "stream",
          "name": "stdout",
          "text": [
            "[[[0.5652227  0.40908392 0.59091101]\n",
            "  [0.5217473  0.52273287 0.61363667]]\n",
            "\n",
            " [[0.5217473  0.52273287 0.61363667]\n",
            "  [0.58697762 0.43182765 0.52273167]]\n",
            "\n",
            " [[0.58697762 0.43182765 0.52273167]\n",
            "  [0.45653161 0.77273318 0.52273127]]\n",
            "\n",
            " [[0.45653161 0.77273318 0.52273127]\n",
            "  [0.95654638 1.         1.        ]]\n",
            "\n",
            " [[0.95654638 1.         1.        ]\n",
            "  [0.97828125 0.84091682 0.77274016]]]\n",
            "Target array: \n"
          ]
        },
        {
          "output_type": "execute_result",
          "data": {
            "text/plain": [
              "array([[0.38202499, 0.8651815 ],\n",
              "       [0.8651815 , 0.93260253],\n",
              "       [0.93260253, 0.59552096],\n",
              "       [0.59552096, 0.8651815 ],\n",
              "       [0.8651815 , 1.        ]])"
            ]
          },
          "metadata": {},
          "execution_count": 137
        }
      ]
    },
    {
      "cell_type": "code",
      "execution_count": 111,
      "metadata": {
        "id": "ruIcNrrwIWpL",
        "colab": {
          "base_uri": "https://localhost:8080/"
        },
        "outputId": "e3d0f468-2739-4999-c526-e5c11bb6fe8c"
      },
      "outputs": [
        {
          "output_type": "execute_result",
          "data": {
            "text/plain": [
              "[0.6840061886452034, 0.7578572958318365, 0.6882512504387558]"
            ]
          },
          "metadata": {},
          "execution_count": 111
        }
      ],
      "source": [
        "# Grey Correlation\n",
        "T= df_normalize[\"Close\"]\n",
        "correlation_weights=[[] for _ in range(len(T))] #result  weights at position i, equation (7)\n",
        "average_weights=[]                      #average weight of the features, equation (8)\n",
        "def grey_correlation(feature, target,weights):\n",
        "  differences=[]\n",
        "  results=[]\n",
        "  for i in range(len(target)):\n",
        "    difference=abs(target.values[i]-feature.values[i])\n",
        "    differences.append(difference)\n",
        "    result=(min(differences)+0.5*max(differences))/(difference+0.5*max(differences))\n",
        "    weights[i].append(result)\n",
        "    results.append(result)\n",
        "    # print(i,weights[i])\n",
        "  # print(results)\n",
        "  return sum(results)/len(results)\n",
        "    # result=\n",
        "feature_columns=df_normalize.loc[:, ~df.columns.isin([\"Close\",\"Date\"])]\n",
        "feature_names=feature_columns.columns\n",
        "# print(feature_names)\n",
        "\n",
        "for name in feature_names:\n",
        "  average_weights.append(grey_correlation(df_normalize[name],T,correlation_weights))\n",
        "\n",
        "average_weights\n"
      ]
    },
    {
      "cell_type": "code",
      "source": [
        "input_values=np.multiply(feature_columns.values,average_weights) #value of input values array x\n",
        "input_values.shape"
      ],
      "metadata": {
        "id": "WpcYamNbbaQx",
        "colab": {
          "base_uri": "https://localhost:8080/"
        },
        "outputId": "5fbe2ace-c85a-41d0-9b12-3d88e40d22a9"
      },
      "execution_count": 112,
      "outputs": [
        {
          "output_type": "execute_result",
          "data": {
            "text/plain": [
              "(68, 3)"
            ]
          },
          "metadata": {},
          "execution_count": 112
        }
      ]
    },
    {
      "cell_type": "code",
      "source": [
        "input_size =input_values.shape[1]\n",
        "hidden_size = 1000  #can be change\n",
        "#Randomize from (-.5,0.5)\n",
        "input_weights=np.array([[np.random.uniform(-0.5, 0.5) for _ in range(hidden_size)] for i in range(input_size)])\n",
        "biases = np.array([np.random.uniform(-0.5, 0.5) for _ in range(hidden_size)])    \n",
        "#Gaussian distribution\n",
        "# input_weights = np.random.normal(size=[input_size,hidden_size]) \n",
        "# biases = np.random.normal(size=[hidden_size])    #Gaussian distribution\n",
        "\n",
        "# input_weights\n",
        "# biases"
      ],
      "metadata": {
        "id": "6TQC2VRLpXH1"
      },
      "execution_count": 113,
      "outputs": []
    },
    {
      "cell_type": "code",
      "execution_count": 114,
      "metadata": {
        "id": "xaxr-bUHqYes"
      },
      "outputs": [],
      "source": [
        "#Sigmoid activation function for hidden layer\n",
        "def sigmoid(x):\n",
        "  return 1/(1+np.exp(-x))"
      ]
    },
    {
      "cell_type": "code",
      "source": [
        "#Relu activation function\n",
        "def relu(x):\n",
        "   return np.maximum(x, 0, x)"
      ],
      "metadata": {
        "id": "mPFhx7CJe6Iy"
      },
      "execution_count": 115,
      "outputs": []
    },
    {
      "cell_type": "code",
      "source": [
        "#Activation of hidden:\n",
        "def hidden_layer(input,input_weights,biases):\n",
        "  hidden=np.dot(input,input_weights)\n",
        "  hidden=hidden+biases\n",
        "  result=relu(hidden)\n",
        "  return result\n"
      ],
      "metadata": {
        "id": "g3OKcqatm4Cy"
      },
      "execution_count": 116,
      "outputs": []
    },
    {
      "cell_type": "code",
      "source": [
        "# create a  output layer, describe number of neurons, number of nerurons (3, according to features), number of output(4),  \n",
        "# pass the weight &biases from previous layers\n",
        "# decrease neurons and  increase layers if accuraccy not above 80%,test with different activations fucntion to see effect on accuracy"
      ],
      "metadata": {
        "id": "t79B0oKnKxM-"
      },
      "execution_count": 117,
      "outputs": []
    },
    {
      "cell_type": "code",
      "source": [
        "#Moore–Penrose generalized inverse of matrix \n",
        "hidden=hidden_layer(input_values,input_weights,biases)  \n",
        "output_weight=np.dot(scipy.linalg.pinv2(hidden),T.values) \n",
        "# output_weight"
      ],
      "metadata": {
        "id": "Q41Gd0BM_TDN"
      },
      "execution_count": 118,
      "outputs": []
    },
    {
      "cell_type": "code",
      "source": [
        "# def output_layer2(hidden_result,weight,biases):\n",
        "#   hidden=np.dot(hidden_result,input_weights)\n",
        "#   hidden=hidden+biases\n",
        "#   result=relu(hidden)\n",
        "#   return result\n",
        "# output2=output_layer2(hidden,input_weights,biases)  \n",
        "# output2"
      ],
      "metadata": {
        "id": "6c62t6aIplxW"
      },
      "execution_count": 119,
      "outputs": []
    },
    {
      "cell_type": "code",
      "source": [
        "# Output layer according to ELM with Moore–Penrose output weight\n",
        "def predict(hidden_result,output_weight):   \n",
        "  result=np.dot(hidden_result,output_weight)   \n",
        "  return result\n",
        "output=predict(hidden,output_weight)\n",
        "output"
      ],
      "metadata": {
        "id": "oBAuN_aBCpMz",
        "colab": {
          "base_uri": "https://localhost:8080/"
        },
        "outputId": "e230f8b5-13c7-41ca-b085-b790cf929d97"
      },
      "execution_count": 120,
      "outputs": [
        {
          "output_type": "execute_result",
          "data": {
            "text/plain": [
              "array([ 0.48314474,  0.48314474,  0.38202499,  0.8651815 ,  0.93260253,\n",
              "        0.59552096,  0.8651815 ,  1.        ,  0.79773693,  0.84271568,\n",
              "        0.92134607,  0.82022631,  0.44944601,  0.07864216,  0.19099483,\n",
              "        0.3932579 ,  0.50561057,  0.14606318,  0.2134842 , -0.05617634,\n",
              "       -0.38202499, -0.32583688, -0.19101838, -0.03371051, -0.03371051,\n",
              "        0.03371051, -0.2134842 , -0.28090523, -0.30337105, -0.19101838,\n",
              "       -0.23595003, -0.32583688, -0.25841585, -0.3483027 , -0.07864216,\n",
              "        0.03371051,  0.07864216,  0.07864216,  0.01124469, -0.14608673,\n",
              "       -0.30337105, -0.3483027 , -0.46067892, -0.57303159, -0.50563412,\n",
              "       -0.5842645 , -0.65168553, -0.61798679, -0.64045261, -0.65168553,\n",
              "       -0.66291844, -0.68538426, -0.64045261, -0.59549742, -0.66291844,\n",
              "       -0.75282883, -0.77529466, -0.73033946, -0.97753418, -1.        ,\n",
              "       -0.75282883, -0.94381189, -0.87641442, -0.70785009, -0.79776048,\n",
              "       -0.87641442, -0.9550448 , -0.91011315])"
            ]
          },
          "metadata": {},
          "execution_count": 120
        }
      ]
    },
    {
      "cell_type": "code",
      "source": [
        "denormalize_value=((output+1)/2*(max_target-min_target))+min_target\n",
        "denormalize_value"
      ],
      "metadata": {
        "id": "GA1fXMFVEPXu",
        "colab": {
          "base_uri": "https://localhost:8080/"
        },
        "outputId": "3f808a67-49d1-4bb7-e44c-1d286579dc82"
      },
      "execution_count": 121,
      "outputs": [
        {
          "output_type": "execute_result",
          "data": {
            "text/plain": [
              "array([ 0.48314474,  0.48314474,  0.38202499,  0.8651815 ,  0.93260253,\n",
              "        0.59552096,  0.8651815 ,  1.        ,  0.79773693,  0.84271568,\n",
              "        0.92134607,  0.82022631,  0.44944601,  0.07864216,  0.19099483,\n",
              "        0.3932579 ,  0.50561057,  0.14606318,  0.2134842 , -0.05617634,\n",
              "       -0.38202499, -0.32583688, -0.19101838, -0.03371051, -0.03371051,\n",
              "        0.03371051, -0.2134842 , -0.28090523, -0.30337105, -0.19101838,\n",
              "       -0.23595003, -0.32583688, -0.25841585, -0.3483027 , -0.07864216,\n",
              "        0.03371051,  0.07864216,  0.07864216,  0.01124469, -0.14608673,\n",
              "       -0.30337105, -0.3483027 , -0.46067892, -0.57303159, -0.50563412,\n",
              "       -0.5842645 , -0.65168553, -0.61798679, -0.64045261, -0.65168553,\n",
              "       -0.66291844, -0.68538426, -0.64045261, -0.59549742, -0.66291844,\n",
              "       -0.75282883, -0.77529466, -0.73033946, -0.97753418, -1.        ,\n",
              "       -0.75282883, -0.94381189, -0.87641442, -0.70785009, -0.79776048,\n",
              "       -0.87641442, -0.9550448 , -0.91011315])"
            ]
          },
          "metadata": {},
          "execution_count": 121
        }
      ]
    },
    {
      "cell_type": "code",
      "source": [
        "index_pred=df.loc[df['Date'] == input_date].index[0]+1\n",
        "accepted_value=df._get_value(index_pred, 'Close')\n",
        "# Accuracy\n",
        "accuracy=abs(denormalize_value-accepted_value)/accepted_value*100\n",
        "accuracy"
      ],
      "metadata": {
        "id": "YQs_34dzM8fC",
        "colab": {
          "base_uri": "https://localhost:8080/"
        },
        "outputId": "1ba6e3c5-1639-4121-d989-2d47592464ab"
      },
      "execution_count": 122,
      "outputs": [
        {
          "output_type": "execute_result",
          "data": {
            "text/plain": [
              "array([143.41502395, 143.41502395,  92.4694868 , 335.89044293,\n",
              "       369.85808914, 200.03172242, 335.89044293, 403.813871  ,\n",
              "       301.91093236, 324.57184897, 364.18692781, 313.24139067,\n",
              "       126.43713302,  60.37898899,   3.77415486,  98.12878378,\n",
              "       154.7336179 ,  26.41134277,   7.55630344, 128.30241706,\n",
              "       292.4694868 , 264.16113757, 196.23770949, 116.98382311,\n",
              "       116.98382311,  83.01617689, 207.55630344, 241.52394966,\n",
              "       252.84254361, 196.23770949, 218.8748974 , 264.16113757,\n",
              "       230.19349135, 275.47973152, 139.62101101,  83.01617689,\n",
              "        60.37898899,  60.37898899,  94.33477085, 173.60052158,\n",
              "       252.84254361, 275.47973152, 332.09642999, 388.70126412,\n",
              "       354.74548226, 394.36056109, 428.32820731, 411.35031638,\n",
              "       422.66891033, 428.32820731, 433.98750428, 445.30609824,\n",
              "       422.66891033, 400.01985807, 433.98750428, 479.28560881,\n",
              "       490.60420276, 467.9551505 , 592.49527705, 603.813871  ,\n",
              "       479.28560881, 575.50552177, 541.54973991, 456.62469219,\n",
              "       501.92279671, 541.54973991, 581.16481874, 558.52763084])"
            ]
          },
          "metadata": {},
          "execution_count": 122
        }
      ]
    },
    {
      "cell_type": "code",
      "source": [
        "import numpy as np\n",
        "\n",
        "data = list(range(36))\n",
        "# window_size = 12\n",
        "# splits = []\n",
        "\n",
        "# for i in range(window_size, len(data)):\n",
        "#     train = np.array(data[i-window_size:i])\n",
        "#     test = np.array(data[i:i+3])\n",
        "#     splits.append(('TRAIN:', train, 'TEST:', test))\n",
        "\n",
        "# # View result\n",
        "# for a_tuple in splits:\n",
        "#     print(a_tuple)"
      ],
      "metadata": {
        "id": "GOo9JORAE646"
      },
      "execution_count": 123,
      "outputs": []
    }
  ],
  "metadata": {
    "colab": {
      "name": "ExtremeLearningMachine.ipynb",
      "provenance": [],
      "authorship_tag": "ABX9TyP3x1cgSvRvUWTe9fyjomLF",
      "include_colab_link": true
    },
    "kernelspec": {
      "display_name": "Python 3",
      "name": "python3"
    },
    "language_info": {
      "name": "python"
    }
  },
  "nbformat": 4,
  "nbformat_minor": 0
}